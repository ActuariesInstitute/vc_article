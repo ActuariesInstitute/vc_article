{
 "cells": [
  {
   "cell_type": "markdown",
   "metadata": {
    "ExecuteTime": {
     "end_time": "2019-02-13T13:21:47.700719Z",
     "start_time": "2019-02-13T13:21:47.698179Z"
    }
   },
   "source": [
    "# Analytics snippet: Version control, because the Recycle Bin doesn't count"
   ]
  },
  {
   "cell_type": "code",
   "execution_count": 7,
   "metadata": {
    "ExecuteTime": {
     "end_time": "2019-02-16T11:18:28.126402Z",
     "start_time": "2019-02-16T11:18:27.919675Z"
    }
   },
   "outputs": [],
   "source": [
    "%load_ext hierarchymagic\n",
    "import os"
   ]
  },
  {
   "cell_type": "markdown",
   "metadata": {},
   "source": [
    "## What is version control and why should I bother?"
   ]
  },
  {
   "cell_type": "markdown",
   "metadata": {},
   "source": [
    "Version control, also known as revision control or source control, is the management of changes to programs, files, documents and other collections of information.\n",
    "\n",
    "As actuaries, our modelling techniques and analyses come in many forms and vary in size depending on the task at hand. For example, a simple exercise of analysing loss ratios for a given period and product could consist only of a small R script or SQL query. On the other hand, something like a functional reserving model could easily be a one gigabyte-sized excel workbook. \n",
    "\n",
    "You, the reader, probably already practice version control in one way or another in the course of your work/ studies. The most primitive and clunky (but useful) method would be the the \"Save As\" button, where another version of the working file is snapshot and the user is free to modify the currently opened document. Does this look familiar or remind you of your college submissions? <br>\n",
    "\n",
    "INSERT IMAGE HERE"
   ]
  },
  {
   "cell_type": "markdown",
   "metadata": {},
   "source": [
    "## What can you expect from this article?"
   ]
  },
  {
   "cell_type": "markdown",
   "metadata": {},
   "source": [
    "This article will attempt to :\n",
    "- Cover several basic practices for version control for scripts\n",
    "- Go through a simple Git process avoiding the command line as much as possible\n",
    "- Provide useful resources for more complicated scenarios in Git\n",
    "- Discuss version control for general documents and databases\n",
    "- Provide a list of possible tools available"
   ]
  },
  {
   "cell_type": "markdown",
   "metadata": {
    "ExecuteTime": {
     "end_time": "2019-02-13T13:22:44.146940Z",
     "start_time": "2019-02-13T13:22:44.144577Z"
    }
   },
   "source": [
    "## GitHub Example"
   ]
  },
  {
   "cell_type": "markdown",
   "metadata": {
    "ExecuteTime": {
     "end_time": "2019-02-13T13:22:52.946688Z",
     "start_time": "2019-02-13T13:22:52.941898Z"
    }
   },
   "source": [
    "Let's demonstrate some version control practices with a simple but somewhat realistic example using one of the most popular platforms, GitHub. By the way, it is pronounced as _Geet-hub_, not _Jeet-hub_. <br>\n",
    "To put things simply, Git is just an open source system designed to handle version control processes for both small and large scale projects. GitHub is just a hosting service for projects that use this \"Git\" tool. <br>\n",
    "Imagine working on a task which requires your team to come up with a reasonable prediction function given some historical dataset. Unsurprisingly, a folder that encompasses the whole project might contain files such as:\n",
    "- The required input data\n",
    "- A python script which runs the a model and produces the coefficients for prediction\n",
    "\n",
    "Note that in most cases, models and tasks are usually a little more complex, which translates into a more complicated file structure with modularized scripts even. Nevertheless something simple such as the one we have will suffice in demonstrating a good use-case for version control."
   ]
  },
  {
   "cell_type": "code",
   "execution_count": 5,
   "metadata": {
    "ExecuteTime": {
     "end_time": "2019-02-13T13:23:01.552382Z",
     "start_time": "2019-02-13T13:23:01.541752Z"
    }
   },
   "outputs": [
    {
     "data": {
      "text/plain": [
       "['data.csv', 'model.py']"
      ]
     },
     "execution_count": 5,
     "metadata": {},
     "output_type": "execute_result"
    }
   ],
   "source": [
    "os.listdir(\"./example_project\")"
   ]
  },
  {
   "cell_type": "markdown",
   "metadata": {},
   "source": [
    "To start off, we want to go into the [GitHub website](https://github.com/) and create an account if you have not already."
   ]
  },
  {
   "cell_type": "code",
   "execution_count": 20,
   "metadata": {
    "ExecuteTime": {
     "end_time": "2019-02-16T06:47:46.579561Z",
     "start_time": "2019-02-16T06:47:46.575129Z"
    },
    "code_folding": [],
    "scrolled": false
   },
   "outputs": [
    {
     "data": {
      "text/html": [
       "<img src=\"img/github_homepage.png\", width=600, height=600>"
      ],
      "text/plain": [
       "<IPython.core.display.HTML object>"
      ]
     },
     "metadata": {},
     "output_type": "display_data"
    }
   ],
   "source": [
    "%%html\n",
    "<img src=\"img/github_homepage.png\", width=600, height=600>"
   ]
  },
  {
   "cell_type": "markdown",
   "metadata": {
    "ExecuteTime": {
     "end_time": "2019-02-16T06:29:12.784521Z",
     "start_time": "2019-02-16T06:29:12.780347Z"
    }
   },
   "source": [
    "Signing up for an account in GitHub is free with a paid option. Besides being a version control tool, GitHub also serves as a platform for collaboration and project management for a variety of disciplines. <br>\n",
    "After creating a free account, we can then start by creating our first repository or \"repo\" for short. As the name suggests, a repository is simply a place where you can store your documents and the user has a choice (as of January 2019) of making the its content public or private."
   ]
  },
  {
   "cell_type": "code",
   "execution_count": 21,
   "metadata": {
    "ExecuteTime": {
     "end_time": "2019-02-16T06:54:06.378702Z",
     "start_time": "2019-02-16T06:54:06.374817Z"
    }
   },
   "outputs": [
    {
     "data": {
      "text/html": [
       "<img src=\"img/create_repo.png\", width=600, height=600>"
      ],
      "text/plain": [
       "<IPython.core.display.HTML object>"
      ]
     },
     "metadata": {},
     "output_type": "display_data"
    }
   ],
   "source": [
    "%%html\n",
    "<img src=\"img/create_repo.png\", width=600, height=600>"
   ]
  },
  {
   "cell_type": "code",
   "execution_count": 22,
   "metadata": {
    "ExecuteTime": {
     "end_time": "2019-02-16T06:57:24.029896Z",
     "start_time": "2019-02-16T06:57:24.025283Z"
    }
   },
   "outputs": [
    {
     "data": {
      "text/html": [
       "<img src=\"img/empty_repo.png\", width=600, height=600>"
      ],
      "text/plain": [
       "<IPython.core.display.HTML object>"
      ]
     },
     "metadata": {},
     "output_type": "display_data"
    }
   ],
   "source": [
    "%%html\n",
    "<img src=\"img/empty_repo.png\", width=600, height=600>"
   ]
  },
  {
   "cell_type": "markdown",
   "metadata": {},
   "source": [
    "We now have an empty (apart from the README.md) virtual storage which we can put our files into! There are generally 2 ways you could go about using the features available on GitHub, and these are the:\n",
    "- Git CLI (Command-line interface)\n",
    "- Github Desktop GUI (Graphic User Interface) <br>\n",
    "\n",
    "In this article, we will try to avoid using the CLI (although it is my preferred method) as it can be daunting for the users who are new to Git and the concept of a version control system. Just as an example, creating a repository using the Git CLI would require the user to install Git from [here](https://git-scm.com/downloads), and the steps shown above correspond to the following terminal/command prompt commands.\n"
   ]
  },
  {
   "cell_type": "code",
   "execution_count": 30,
   "metadata": {
    "ExecuteTime": {
     "end_time": "2019-02-16T07:21:07.258563Z",
     "start_time": "2019-02-16T07:21:07.254069Z"
    }
   },
   "outputs": [
    {
     "data": {
      "text/html": [
       "<img src=\"img/create_repo_cli.png\", width=400, height=400>"
      ],
      "text/plain": [
       "<IPython.core.display.HTML object>"
      ]
     },
     "metadata": {},
     "output_type": "display_data"
    }
   ],
   "source": [
    "%%html\n",
    "<img src=\"img/create_repo_cli.png\", width=400, height=400>"
   ]
  },
  {
   "cell_type": "markdown",
   "metadata": {},
   "source": [
    "Okay, enough of that scary stuff, let's go with option number 2, the GitHub Desktop GUI. It is basically an application which can be downloaded from [here](https://desktop.github.com/), and allows the user to interact and use the GitHub features without having to go onto your web browser every single time. Before we move on, let's take some time to go through the some commonly used terms and general mechanics of the Git system. <br><br>\n"
   ]
  },
  {
   "cell_type": "markdown",
   "metadata": {},
   "source": [
    "#### Repository"
   ]
  },
  {
   "cell_type": "markdown",
   "metadata": {},
   "source": [
    "As mentioned before, a repository is simply a location where the user can store all of his/ her files relating to a particular project. In the Git system, repositories can be grouped generally into 2 main cateogries:\n",
    "- Local\n",
    "- Remote\n",
    "\n",
    "A local repository is just a file location residing in your local system. When you \"commit\" your code, a version/snapshot is created in your local repository. On the other hand, a remote repository generally lies somewhere outside your system, on an external server (GitHub in this case). This is very important when collaborating with multiple people as this is where everyone will be \"uploading\" their code to."
   ]
  },
  {
   "cell_type": "markdown",
   "metadata": {},
   "source": [
    "#### Branch"
   ]
  },
  {
   "cell_type": "markdown",
   "metadata": {},
   "source": [
    "A Git branch, can be somewhat seen as parallel universes for documents. When creating a new repository, a default \"Master\" branch is always created.\n",
    "In my opinion, this is best explained with an example. Let's say we have 3 actuaries; Jimmy, Michelle and Esther working on a pricing model. The initial model uses a simple linear regression to predict the age curve for motor insurance policyholders, and is saved in a repository in the master branch. The 3 of them then start to improve the model by implementing what they think is the most reasonable:\n",
    "\n",
    "- Jimmy thinks that SLR is fine but increases the intercept by a little to account for the age profile for the company's portfolio\n",
    "- Michelle thinks that SLR is reasonable but insufficient, so proceeds to add 1 more independent variable to the model\n",
    "- Esther totally disagrees with the use of SLR and replaces the whole script with a GLM model\n",
    "\n",
    "In each of the scenarios, the actuaries would have changed the script according to what he/ she believes the model ought to be. However, they would not be changing the original script or \"Master\" branch but instead, would create a new branch (which is just a copy of master) and make their changes from there. Back to the parellel universe analogy, in one of the parellel universes the script remained a SLR with a tweaked intercept, but in another the script would have been a GLM!"
   ]
  },
  {
   "cell_type": "code",
   "execution_count": 21,
   "metadata": {
    "ExecuteTime": {
     "end_time": "2019-02-16T11:43:35.463523Z",
     "start_time": "2019-02-16T11:43:34.642211Z"
    },
    "scrolled": true
   },
   "outputs": [
    {
     "data": {
      "image/png": "[encoded data removed]"
     },
     "metadata": {},
     "output_type": "display_data"
    }
   ],
   "source": [
    "%%dot\n",
    "digraph {\n",
    "        rankdir = LR\n",
    "        Master_branch -> \"Jimmy_branch (Copy of master)\"-> \"Jimmy_commit (Increased intercept by 2)\"\n",
    "        Master_branch -> \"Michelle_branch (Copy of master)\" -> \"Michelle_commit (Added years of patronage variable)\"\n",
    "        Master_branch -> \"Esther_branch (Copy of master)\" -> \"Esther_commit (Rework of model to GLM)\"\n",
    "        }"
   ]
  },
  {
   "cell_type": "markdown",
   "metadata": {},
   "source": [
    "#### Commit"
   ]
  },
  {
   "cell_type": "markdown",
   "metadata": {},
   "source": [
    "So what happens when "
   ]
  },
  {
   "cell_type": "markdown",
   "metadata": {},
   "source": [
    "#### Merge"
   ]
  },
  {
   "cell_type": "markdown",
   "metadata": {},
   "source": [
    "#### Push/ Pull"
   ]
  },
  {
   "cell_type": "markdown",
   "metadata": {},
   "source": [
    "#### Git Workflow"
   ]
  },
  {
   "cell_type": "markdown",
   "metadata": {},
   "source": [
    "Now that we have installed GitHub desktop, opening the application should bring you to an interface that looks something like this."
   ]
  },
  {
   "cell_type": "code",
   "execution_count": 32,
   "metadata": {
    "ExecuteTime": {
     "end_time": "2019-02-16T07:51:12.398753Z",
     "start_time": "2019-02-16T07:51:12.394664Z"
    },
    "scrolled": true
   },
   "outputs": [
    {
     "data": {
      "text/html": [
       "<img src=\"img/github_desktop_home.png\", width=400, height=400>"
      ],
      "text/plain": [
       "<IPython.core.display.HTML object>"
      ]
     },
     "metadata": {},
     "output_type": "display_data"
    }
   ],
   "source": [
    "%%html\n",
    "<img src=\"img/github_desktop_home.png\", width=400, height=400>"
   ]
  },
  {
   "cell_type": "markdown",
   "metadata": {},
   "source": [
    "Remember, we created an online storage before on the GitHub website, but we will need a file in our local machine which we can use to sync our documents. Think of it as dropping some files into a local DropBox or GoogleDrive folder to sync them into your online storage. If we then proceed to click on the \"Repository\" tab in the top left corner, we will see an \"add\" option."
   ]
  },
  {
   "cell_type": "code",
   "execution_count": 34,
   "metadata": {
    "ExecuteTime": {
     "end_time": "2019-02-16T07:57:48.399823Z",
     "start_time": "2019-02-16T07:57:48.395649Z"
    }
   },
   "outputs": [
    {
     "data": {
      "text/html": [
       "<img src=\"img/clone_repo.png\", width=400, height=400>"
      ],
      "text/plain": [
       "<IPython.core.display.HTML object>"
      ]
     },
     "metadata": {},
     "output_type": "display_data"
    }
   ],
   "source": [
    "%%html\n",
    "<img src=\"img/clone_repo.png\", width=400, height=400>"
   ]
  },
  {
   "cell_type": "code",
   "execution_count": 35,
   "metadata": {
    "ExecuteTime": {
     "end_time": "2019-02-16T07:57:58.222893Z",
     "start_time": "2019-02-16T07:57:58.218897Z"
    }
   },
   "outputs": [
    {
     "data": {
      "text/html": [
       "<img src=\"img/clone_repo_2.png\", width=400, height=400>"
      ],
      "text/plain": [
       "<IPython.core.display.HTML object>"
      ]
     },
     "metadata": {},
     "output_type": "display_data"
    }
   ],
   "source": [
    "%%html\n",
    "<img src=\"img/clone_repo_2.png\", width=400, height=400>"
   ]
  },
  {
   "cell_type": "markdown",
   "metadata": {},
   "source": [
    "Here, you can just copy the url of your repository (either from the address bar at the top of the web page or the green \"clone or download\" button) into the first field. In the local path, you are to choose an empty folder which will become your new \"local version\" of the GitHub storage, and any changes made there can be synced to the online repository."
   ]
  },
  {
   "cell_type": "code",
   "execution_count": 36,
   "metadata": {
    "ExecuteTime": {
     "end_time": "2019-02-16T09:51:31.484644Z",
     "start_time": "2019-02-16T09:51:31.479703Z"
    }
   },
   "outputs": [
    {
     "data": {
      "text/html": [
       "<img src=\"img/local_repo.png\", width=400, height=400>"
      ],
      "text/plain": [
       "<IPython.core.display.HTML object>"
      ]
     },
     "metadata": {},
     "output_type": "display_data"
    }
   ],
   "source": [
    "%%html\n",
    "<img src=\"img/local_repo.png\", width=400, height=400>"
   ]
  },
  {
   "cell_type": "markdown",
   "metadata": {},
   "source": [
    "After cloning a local version of the repository, it is finally time to sync our project files. We can do this by simple adding some files into the local path. Let's add our 2 files:\n",
    "- data.csv\n",
    "- model.py\n",
    "\n",
    "Into the local folder and see what happens."
   ]
  },
  {
   "cell_type": "code",
   "execution_count": 37,
   "metadata": {
    "ExecuteTime": {
     "end_time": "2019-02-16T09:57:43.451555Z",
     "start_time": "2019-02-16T09:57:43.447650Z"
    }
   },
   "outputs": [
    {
     "data": {
      "text/html": [
       "<img src=\"img/git_status_local.png\", width=400, height=400>"
      ],
      "text/plain": [
       "<IPython.core.display.HTML object>"
      ]
     },
     "metadata": {},
     "output_type": "display_data"
    }
   ],
   "source": [
    "%%html\n",
    "<img src=\"img/git_status_local.png\", width=400, height=400>"
   ]
  },
  {
   "cell_type": "markdown",
   "metadata": {},
   "source": [
    "We can see that the GitHub application automatically detected the changes within the folder! (which is the addition of 2 new files in this case). After checking through to make sure that those are indeed the files that we want to sync, we simply type a summary and description of the update on the bottom left of the window, and hit the \"commit to master\" button. (There are a set of industry best practices with regards to the format of commit messages and descriptions but we will not go into that in this article) <br>\n",
    "\n",
    "After committing our the changes/ additions, we just need to hit the \"push to origin\" button and just like that, our files will be synced to the online repository. Let's go back to the GitHub website to make sure that the files were indeed synced up."
   ]
  },
  {
   "cell_type": "code",
   "execution_count": 38,
   "metadata": {
    "ExecuteTime": {
     "end_time": "2019-02-16T10:16:43.789819Z",
     "start_time": "2019-02-16T10:16:43.785555Z"
    }
   },
   "outputs": [
    {
     "data": {
      "text/html": [
       "<img src=\"img/github_synced.png\", width=400, height=400>"
      ],
      "text/plain": [
       "<IPython.core.display.HTML object>"
      ]
     },
     "metadata": {},
     "output_type": "display_data"
    }
   ],
   "source": [
    "%%html\n",
    "<img src=\"img/github_synced.png\", width=400, height=400>"
   ]
  },
  {
   "cell_type": "markdown",
   "metadata": {},
   "source": [
    "If down the road, we make adjustments to any of the files in our local folder, the GitHub application will pick up these changes in the same way shown above and we would just go through the same steps to sync our files online. So, you might be asking, where does the version control aspect of this tool come in? <br>\n",
    "\n",
    "If you take a closer look at the screenshot above, you would notice \"2 commits\" label on the top left. If we were to click on that, it would bring us to the screen below, where we can see all previous commits made to the repository."
   ]
  },
  {
   "cell_type": "code",
   "execution_count": 4,
   "metadata": {
    "ExecuteTime": {
     "end_time": "2019-02-16T10:51:44.001095Z",
     "start_time": "2019-02-16T10:51:43.997194Z"
    }
   },
   "outputs": [
    {
     "data": {
      "text/html": [
       "<img src=\"img/github_commit_history.png\", width=400, height=400>"
      ],
      "text/plain": [
       "<IPython.core.display.HTML object>"
      ]
     },
     "metadata": {},
     "output_type": "display_data"
    }
   ],
   "source": [
    "%%html\n",
    "<img src=\"img/github_commit_history.png\", width=400, height=400>"
   ]
  },
  {
   "cell_type": "markdown",
   "metadata": {},
   "source": [
    "When clicking on these previous commits, it returns the user to previous states of the repository at those times, allowing him/ her to:\n",
    "- Review the changes that have been made at that point of time\n",
    "- Download any older versions of files if required\n",
    "- Revert the repository back to any of the previous states if required <br>\n",
    "\n",
    "If you can't already tell, this is an extremely useful feature for anyone or any team working collaboratively on a project!"
   ]
  },
  {
   "cell_type": "markdown",
   "metadata": {},
   "source": [
    "## Other tools available"
   ]
  },
  {
   "cell_type": "markdown",
   "metadata": {},
   "source": [
    "- Atom IDE"
   ]
  },
  {
   "cell_type": "code",
   "execution_count": null,
   "metadata": {},
   "outputs": [],
   "source": []
  }
 ],
 "metadata": {
  "kernelspec": {
   "display_name": "Python 3",
   "language": "python",
   "name": "python3"
  },
  "language_info": {
   "codemirror_mode": {
    "name": "ipython",
    "version": 3
   },
   "file_extension": ".py",
   "mimetype": "text/x-python",
   "name": "python",
   "nbconvert_exporter": "python",
   "pygments_lexer": "ipython3",
   "version": "3.6.5"
  },
  "varInspector": {
   "cols": {
    "lenName": 16,
    "lenType": 16,
    "lenVar": 40
   },
   "kernels_config": {
    "python": {
     "delete_cmd_postfix": "",
     "delete_cmd_prefix": "del ",
     "library": "var_list.py",
     "varRefreshCmd": "print(var_dic_list())"
    },
    "r": {
     "delete_cmd_postfix": ") ",
     "delete_cmd_prefix": "rm(",
     "library": "var_list.r",
     "varRefreshCmd": "cat(var_dic_list()) "
    }
   },
   "types_to_exclude": [
    "module",
    "function",
    "builtin_function_or_method",
    "instance",
    "_Feature"
   ],
   "window_display": false
  }
 },
 "nbformat": 4,
 "nbformat_minor": 2
}
