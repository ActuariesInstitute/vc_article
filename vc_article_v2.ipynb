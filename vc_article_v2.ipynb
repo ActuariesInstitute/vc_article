{
 "cells": [
  {
   "cell_type": "markdown",
   "metadata": {
    "ExecuteTime": {
     "end_time": "2019-02-24T05:39:55.811333Z",
     "start_time": "2019-02-24T05:39:55.808869Z"
    }
   },
   "source": [
    "# Analytics snippet: Version control, because the Recycle Bin doesn't count"
   ]
  },
  {
   "cell_type": "markdown",
   "metadata": {},
   "source": [
    "## What is version control and why should I bother?"
   ]
  },
  {
   "cell_type": "markdown",
   "metadata": {},
   "source": [
    "Version control, also known as revision control or source control, is the management of changes to programs, files, documents and other collections of information.\n",
    "\n",
    "As actuaries, our modelling techniques and analyses come in many forms and vary in size depending on the task at hand. For example, a simple exercise of analysing loss ratios for a given period and product could consist only of a small R script or SQL query. On the other hand, something like a functional reserving model could easily be a one gigabyte-sized excel workbook. \n",
    "\n",
    "The rest of the article will go through a simple example concerning a small team of 3 actuaries and how GitHub is used for script version control in their day to day tasks."
   ]
  },
  {
   "cell_type": "markdown",
   "metadata": {},
   "source": [
    "## FOO Insurance Ltd"
   ]
  },
  {
   "cell_type": "markdown",
   "metadata": {},
   "source": [
    "It is the beginning of a new financial year for FOO insurance Ltd, and its produts are due for a pricing review, which is handled by the actuarial team consisting of:\n",
    "\n",
    "- Esther, Manger\n",
    "- Jimmy, Analyst\n",
    "- Michelle Analyst\n",
    "\n",
    "The first step of this project is to review the age curve independently and produce a model which will be compared with the current one used in production. After getting briefed on the relevant details and timelines, the team then spends the next week discussing and iterating through various parameters and hypothesis, and finally comes up with the agreed upon model to use!"
   ]
  },
  {
   "cell_type": "code",
   "execution_count": 3,
   "metadata": {
    "ExecuteTime": {
     "end_time": "2019-02-24T08:50:25.107436Z",
     "start_time": "2019-02-24T08:50:25.096660Z"
    }
   },
   "outputs": [
    {
     "data": {
      "text/html": [
       "<img src=\"img/messy_files.png\", width=400, height=400>"
      ],
      "text/plain": [
       "<IPython.core.display.HTML object>"
      ]
     },
     "metadata": {},
     "output_type": "display_data"
    }
   ],
   "source": [
    "%%html\n",
    "<img src=\"img/messy_files.png\", width=400, height=400>"
   ]
  },
  {
   "cell_type": "markdown",
   "metadata": {},
   "source": [
    "Okay, so which exactly is the final model here? Does this look vaguely familiar to your old college submissions or some of your drives in your office? If it is, then you probably already practice version control in one way or another. The most primitive and clunky (but useful) method would be the the \"Save As\" button, where another version of the working file is snapshot and the user is free to modify the currently opened document which produces a result similar to that shown above.\n",
    "\n",
    "Note that these files are the product of a small team of 3 actuaries working on a simple and straight forward project. You could imagine how much more convoluted it could get with a bigger team and an actual analytics task.\n",
    "\n",
    "The goal of the article then, is to give the reader a quick and practical way to go from that screenshot above to this:"
   ]
  },
  {
   "cell_type": "markdown",
   "metadata": {},
   "source": [
    "INSERT GITHUB REPO HERE WITH 1 FILE"
   ]
  },
  {
   "cell_type": "markdown",
   "metadata": {},
   "source": [
    "Would you believe it if I told you that the files (or file) in the second screenshot contains the same amount of historical information as the first and more? This is however, limited to scripts and small files. For bigger files like excel workbooks, the article will recommend some alternative tools for the reader but will not go into detail its implementations and mechanics."
   ]
  },
  {
   "cell_type": "markdown",
   "metadata": {},
   "source": [
    "#### Administrative and Security Issues"
   ]
  },
  {
   "cell_type": "markdown",
   "metadata": {},
   "source": [
    "Let's rewind to a week ago before the actuarial team breaks away to work on the model. The first step towards a more sustainable file structure is for the team (or Esther) to consult FOO's IT/Tech department. This is because, there is a good chance that they are already using GitHub (Enterprise) for their day-to-day tasks and would be able to provide some guidance. If this is not the case, the team must consult the appropriate authorities within the company to make sure that GitHub is an approved platform and to go over the risks of security breaches. Do note that, as of October 2018, GitHub is officially owned by Microsoft. That should provide upper management some sense of security, right?  "
   ]
  },
  {
   "cell_type": "markdown",
   "metadata": {},
   "source": [
    "#### Registering and Installing"
   ]
  },
  {
   "cell_type": "markdown",
   "metadata": {},
   "source": [
    "After settling all the administrative issues, the actuarial team can now proceed to download and register for GitHub. To start off, they would want to go into the [GitHub website](https://github.com/) and create an account, or sign in if an account was already created."
   ]
  },
  {
   "cell_type": "code",
   "execution_count": 20,
   "metadata": {
    "ExecuteTime": {
     "end_time": "2019-02-16T06:47:46.579561Z",
     "start_time": "2019-02-16T06:47:46.575129Z"
    },
    "code_folding": [],
    "scrolled": false
   },
   "outputs": [
    {
     "data": {
      "text/html": [
       "<img src=\"img/github_homepage.png\", width=600, height=600>"
      ],
      "text/plain": [
       "<IPython.core.display.HTML object>"
      ]
     },
     "metadata": {},
     "output_type": "display_data"
    }
   ],
   "source": [
    "%%html\n",
    "<img src=\"img/github_homepage.png\", width=600, height=600>"
   ]
  },
  {
   "cell_type": "markdown",
   "metadata": {
    "ExecuteTime": {
     "end_time": "2019-02-16T06:29:12.784521Z",
     "start_time": "2019-02-16T06:29:12.780347Z"
    }
   },
   "source": [
    "Assuming FOO Insurance Ltd does not have a corporate account with GitHub Enterprise, signing up for a personal account in GitHub is free with a paid option. Besides being a version control tool, GitHub also serves as a platform for collaboration and project management for a variety of disciplines across different departments. Note that as of January 2019, all GitHub accounts have the ability to create private repositories, which would be necessary for the team. (They might as well e-mail their pricing models to their competitors otherwise.)"
   ]
  },
  {
   "cell_type": "markdown",
   "metadata": {},
   "source": [
    "#### Repository"
   ]
  },
  {
   "cell_type": "markdown",
   "metadata": {},
   "source": [
    "Great! Now that all 3 of them have GitHub accounts, the next step would be to create a \"location\" to store all the relevant project files. In the world of Git, this is called a Repository or \"Repo\" for short, and repositories can be generally grouped into 2 main categories\n",
    "\n",
    "- Local\n",
    "- Remote\n",
    "\n",
    "A local repository is just a file location residing in your local system, much like a folder in your local drive, whereas a remote repository is the \"online\" version which everyone sees. Esther now proceeds to create (initialize) a remote repository with the following steps so the team can start to work on the model."
   ]
  },
  {
   "cell_type": "code",
   "execution_count": 1,
   "metadata": {
    "ExecuteTime": {
     "end_time": "2019-02-24T08:15:20.355795Z",
     "start_time": "2019-02-24T08:15:20.327326Z"
    }
   },
   "outputs": [
    {
     "data": {
      "text/html": [
       "<img src=\"img/create_repo.png\", width=600, height=600>"
      ],
      "text/plain": [
       "<IPython.core.display.HTML object>"
      ]
     },
     "metadata": {},
     "output_type": "display_data"
    }
   ],
   "source": [
    "%%html\n",
    "<img src=\"img/create_repo.png\", width=600, height=600>"
   ]
  },
  {
   "cell_type": "code",
   "execution_count": 22,
   "metadata": {
    "ExecuteTime": {
     "end_time": "2019-02-16T06:57:24.029896Z",
     "start_time": "2019-02-16T06:57:24.025283Z"
    }
   },
   "outputs": [
    {
     "data": {
      "text/html": [
       "<img src=\"img/empty_repo.png\", width=600, height=600>"
      ],
      "text/plain": [
       "<IPython.core.display.HTML object>"
      ]
     },
     "metadata": {},
     "output_type": "display_data"
    }
   ],
   "source": [
    "%%html\n",
    "<img src=\"img/empty_repo.png\", width=600, height=600>"
   ]
  },
  {
   "cell_type": "markdown",
   "metadata": {},
   "source": [
    "We now have an empty remote repositoroy in which the team can put all their project files into! There are generally 2 ways of using the features available on GitHub, and these are the:\n",
    "\n",
    "- Git CLI (Command-line interface)\n",
    "- Github Desktop GUI (Graphic User Interface) <br>\n",
    "\n",
    "In this article, we will try to avoid using the CLI (Although it is my preferred method) as it can be daunting for the users who are new to Git and the concept of a version control system. Just as an example, creating a repository using the Git CLI would require the user to install Git from [here](https://git-scm.com/downloads), and the steps shown above correspond to the following terminal/command prompt commands.\n"
   ]
  },
  {
   "cell_type": "code",
   "execution_count": 44,
   "metadata": {
    "ExecuteTime": {
     "end_time": "2019-02-16T13:24:32.957383Z",
     "start_time": "2019-02-16T13:24:32.953063Z"
    }
   },
   "outputs": [
    {
     "data": {
      "text/html": [
       "<img src=\"img/create_repo_cli.png\", width=400, height=400>"
      ],
      "text/plain": [
       "<IPython.core.display.HTML object>"
      ]
     },
     "metadata": {},
     "output_type": "display_data"
    }
   ],
   "source": [
    "%%html\n",
    "<img src=\"img/create_repo_cli.png\", width=400, height=400>"
   ]
  },
  {
   "cell_type": "markdown",
   "metadata": {},
   "source": [
    "Okay, enough of that scary stuff, let's go with option number 2, the GitHub Desktop GUI. It is basically an application which can be downloaded from [here](https://desktop.github.com/), and allows the user to interact and use the GitHub features without having to go onto your web browser every single time. After all of them have installed the application, they should see a screen that looks similar to this.\n"
   ]
  },
  {
   "cell_type": "code",
   "execution_count": 32,
   "metadata": {
    "ExecuteTime": {
     "end_time": "2019-02-16T07:51:12.398753Z",
     "start_time": "2019-02-16T07:51:12.394664Z"
    },
    "scrolled": true
   },
   "outputs": [
    {
     "data": {
      "text/html": [
       "<img src=\"img/github_desktop_home.png\", width=400, height=400>"
      ],
      "text/plain": [
       "<IPython.core.display.HTML object>"
      ]
     },
     "metadata": {},
     "output_type": "display_data"
    }
   ],
   "source": [
    "%%html\n",
    "<img src=\"img/github_desktop_home.png\", width=400, height=400>"
   ]
  },
  {
   "cell_type": "markdown",
   "metadata": {},
   "source": [
    "Okay, let's say Esther (Manager) has created an inital script for the age curve in R called \"model.r\", which uses Simple Linear Regression to model the relationship between policyholders' age and the average claims incurred. The contents of model.r looks something like this:"
   ]
  },
  {
   "cell_type": "code",
   "execution_count": 8,
   "metadata": {
    "ExecuteTime": {
     "end_time": "2019-02-24T09:34:05.472968Z",
     "start_time": "2019-02-24T09:34:05.460726Z"
    }
   },
   "outputs": [
    {
     "data": {
      "text/html": [
       "<img src=\"img/initial_model.png\", width=400, height=400>"
      ],
      "text/plain": [
       "<IPython.core.display.HTML object>"
      ]
     },
     "metadata": {},
     "output_type": "display_data"
    }
   ],
   "source": [
    "%%html\n",
    "<img src=\"img/initial_model.png\", width=400, height=400>"
   ]
  },
  {
   "cell_type": "markdown",
   "metadata": {},
   "source": [
    "Nothing fancy, all the script does is to read the dataset in, instantiate a simple linear regression model and print the calculated coefficients. Esther now wants both Jimmy and Michelle to work on improving it, and can do that by uploading the current script into the remote repository created."
   ]
  },
  {
   "cell_type": "markdown",
   "metadata": {},
   "source": [
    "INSERT STEPS\n",
    "- clone\n",
    "- add\n",
    "- commit\n",
    "- push"
   ]
  },
  {
   "cell_type": "code",
   "execution_count": null,
   "metadata": {},
   "outputs": [],
   "source": []
  }
 ],
 "metadata": {
  "kernelspec": {
   "display_name": "Python 3",
   "language": "python",
   "name": "python3"
  },
  "language_info": {
   "codemirror_mode": {
    "name": "ipython",
    "version": 3
   },
   "file_extension": ".py",
   "mimetype": "text/x-python",
   "name": "python",
   "nbconvert_exporter": "python",
   "pygments_lexer": "ipython3",
   "version": "3.6.5"
  },
  "varInspector": {
   "cols": {
    "lenName": 16,
    "lenType": 16,
    "lenVar": 40
   },
   "kernels_config": {
    "python": {
     "delete_cmd_postfix": "",
     "delete_cmd_prefix": "del ",
     "library": "var_list.py",
     "varRefreshCmd": "print(var_dic_list())"
    },
    "r": {
     "delete_cmd_postfix": ") ",
     "delete_cmd_prefix": "rm(",
     "library": "var_list.r",
     "varRefreshCmd": "cat(var_dic_list()) "
    }
   },
   "types_to_exclude": [
    "module",
    "function",
    "builtin_function_or_method",
    "instance",
    "_Feature"
   ],
   "window_display": false
  }
 },
 "nbformat": 4,
 "nbformat_minor": 2
}
